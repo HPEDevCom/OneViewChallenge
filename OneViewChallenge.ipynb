{
 "cells": [
  {
   "cell_type": "markdown",
   "metadata": {},
   "source": [
    "# Welcome to the HPE OneView Challenge\n",
    "\n",
    "Your mission is to implement vSphere VSAN on a Synergy Composable Infrastructure. Because you're working for a large enterprise, you want to script your work so that you can reuse it in several datacenters and several Synergy environments. Your scripting language of choice is PowerShell. Your guide to best practices for vSphere VSAN on HPE Synergy is [this technical white paper](https://support.hpe.com/hpesc/public/docDisplay?docLocale=en_US&docId=emr_na-a00060084en_us)\n",
    "\n",
    "You are specifically responsible for step 2 of the Configuration process, **HPE OneView server profile templates and vSAN node creation**. You will be using the [HPE OneView PowerShell Library](https://github.com/HewlettPackard/POSH-HPOneView), so you should first import the module\n",
    "\n"
   ]
  },
  {
   "cell_type": "code",
   "execution_count": null,
   "metadata": {},
   "outputs": [],
   "source": [
    "Import-Module HPOneView.520"
   ]
  },
  {
   "cell_type": "markdown",
   "metadata": {},
   "source": [
    "Now let's define a few variables like the IP address of the OneView appliance you can work with"
   ]
  },
  {
   "cell_type": "code",
   "execution_count": null,
   "metadata": {},
   "outputs": [],
   "source": [
    ". ../Variables.ps1"
   ]
  },
  {
   "cell_type": "markdown",
   "metadata": {},
   "source": [
    "Next you want to connect to your HPE OneView appliance:"
   ]
  },
  {
   "cell_type": "code",
   "execution_count": null,
   "metadata": {},
   "outputs": [],
   "source": [
    "Connect-HPOVMgmt -Host $ovipaddr -Credential (new-object -TypeName System.Management.Automation.PSCredential -ArgumentList \"Administrator\",(\"password\"|ConvertTo-SecureString -AsPlainText -Force))"
   ]
  },
  {
   "cell_type": "markdown",
   "metadata": {},
   "source": [
    "The bulk of your challenge is to use the New-HPOVServerProfileTemplate cmdlet. You can find documentation on that cmdlet [here](https://hpe-docs.gitbook.io/posh-hponeview/cmdlets/v5.20/servers/new-hpovserverprofiletemplate)\n",
    "\n",
    "You will need a bit of information to create your server profile template :\n",
    "* Server Hardware Type: it's in the $sht variable defines previously by the Variables.ps1 script\n",
    "* Enclosure Group: there's only one...\n",
    "* Management network: ESX Mgmt\n",
    "* VMotion network: ESX vMotion\n",
    "* VM guests networks: Prod_1101, Prod_1102, Prod_1103 and Prod_1104\n",
    "* VSAN storage network: vSAN\n",
    "\n",
    "Over to you, get busy writing some fine code ! Bonus points will be awarded if you also set BIOS settings (marked as optional in the white paper) in your template. Additional bonus points if you test your template by creating a server profile from it and assigning it to the server you've been allocated for this challenge (hint: its name is in the $server variable) and it works without any error."
   ]
  },
  {
   "cell_type": "code",
   "execution_count": null,
   "metadata": {},
   "outputs": [],
   "source": []
  },
  {
   "cell_type": "markdown",
   "metadata": {},
   "source": [
    "All set? Well done! it's now time to submit your reponse.\n",
    "\n",
    "## Submitting your response\n",
    "In order to submit your response to this challenge, we will ask you to leverage GitHub to return the modified version of the Jupyter Notebook.\n",
    "\n",
    "### Commit your changes to local repo\n",
    "Using the Launcher->Terminal session, commit changes locally\n",
    "\n",
    "### Push your response as a new branch folllowing the naming convention\n",
    "Then push your change back to your Github account.\n",
    "\n",
    "### From your repo, submit a pull request to HPE Discover Challenges repo\n",
    "It's now time to submit your response back to the HPE Discover Challenges Repo. To do so we ask you to submit a Pull Request (PR) from your GitHub account.\n",
    "\n",
    "## Wait for jury or try another challenge\n",
    "We will select a winner per Challenge. Stay tuned for the announcement. There is also a draw among the ones completing all the challenges, so get back to work!\n",
    "\n",
    "# Congratulations for completing this Challenge!"
   ]
  },
  {
   "cell_type": "code",
   "execution_count": null,
   "metadata": {},
   "outputs": [],
   "source": []
  }
 ],
 "metadata": {
  "kernelspec": {
   "display_name": "PowerShell",
   "language": "powershell",
   "name": "powershell"
  },
  "language_info": {
   "codemirror_mode": "shell",
   "file_extension": ".ps1",
   "mimetype": "text/x-sh",
   "name": "powershell"
  }
 },
 "nbformat": 4,
 "nbformat_minor": 4
}
