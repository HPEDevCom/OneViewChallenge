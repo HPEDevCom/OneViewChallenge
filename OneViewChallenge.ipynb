{
 "cells": [
  {
   "cell_type": "markdown",
   "metadata": {},
   "source": [
    "# Welcome to the HPE OneView Challenge\n",
    "\n",
    "Your mission is to implement vSphere VSAN on a Synergy Composable Infrastructure. Because you're working for a large enterprise, you want to script your work so that you can reuse it in several datacenters and several Synergy environments. Your scripting language of choice is PowerShell. Your guide to best practices for vSphere VSAN on HPE Synergy is [this technical white paper](https://support.hpe.com/hpesc/public/docDisplay?docLocale=en_US&docId=emr_na-a00060084en_us)\n",
    "\n",
    "You are specifically responsible for step 2 of the Configuration process, **HPE OneView server profile templates and vSAN node creation**. You will be using the [HPE OneView PowerShell Library](https://github.com/HewlettPackard/POSH-HPOneView), so you should first import the module\n",
    "\n"
   ]
  },
  {
   "cell_type": "code",
   "execution_count": null,
   "metadata": {},
   "outputs": [],
   "source": [
    "Import-Module HPOneView.520"
   ]
  },
  {
   "cell_type": "markdown",
   "metadata": {},
   "source": [
    "Now let's define a few variables like the IP address of the OneView appliance you can work with"
   ]
  },
  {
   "cell_type": "code",
   "execution_count": null,
   "metadata": {},
   "outputs": [],
   "source": [
    ". ../Variables.ps1"
   ]
  },
  {
   "cell_type": "markdown",
   "metadata": {},
   "source": [
    "Next you want to connect to your HPE OneView appliance:"
   ]
  },
  {
   "cell_type": "code",
   "execution_count": null,
   "metadata": {},
   "outputs": [],
   "source": [
    "Connect-HPOVMgmt -Host $ovipaddr -Credentials (new-object -TypeName System.Management.Automation.PSCredential -ArgumentList \"Administrator\",(\"password\"|ConvertTo-SecureString -AsPlainText -Force))"
   ]
  },
  {
   "cell_type": "markdown",
   "metadata": {},
   "source": [
    "The bulk of your challenge is to use the New-HPOVServerProfileTemplate cmdlet. You can find documentation on that cmdlet [here](https://hpe-docs.gitbook.io/posh-hponeview/cmdlets/v5.20/servers/new-hpovserverprofiletemplate)\n",
    "\n",
    "You will need a bit of information to create your server profile template :\n",
    "* Server Hardware Type: it's in the $sht variable defines previously by the Variables.ps1 script\n",
    "* Enclosure Group: there's only one...\n",
    "* Management network: ESX Mgmt\n",
    "* VMotion network: ESX vMotion\n",
    "* VM guests networks: Prod_1101, Prod_1102, Prod_1103 and Prod_1104\n",
    "* VSAN storage network: vSAN\n",
    "\n",
    "Over to you, get busy writing some fine code ! Bonus points will be awarded if you also set BIOS settings (marked as optional in the white paper) in your template"
   ]
  },
  {
   "cell_type": "code",
   "execution_count": null,
   "metadata": {},
   "outputs": [],
   "source": []
  },
  {
   "cell_type": "markdown",
   "metadata": {},
   "source": [
    "All set? Well done! it's now time to submit your reponse.\n",
    "\n",
    "## Submitting your response\n",
    "In order to hand in your response to this challenge, we will ask you to use GitHub to submit the modified version of the Jupyter Notebook.\n",
    "Follow instructions from the [Hack Shack Workshop: Git 101](../WKSHP-GIT101/1-WKSHP-GIT-Basics.ipynb) notebook if you need help.\n",
    "\n",
    "Submitting your response to the challenge will be done by submitting your edited challenge notebook (in some cases there might be additional edited files in the repo). When you are ready, we will ask you to leverage GitHub again and do the following:\n",
    "\n",
    "- Step 1: Commit changes in your Jupyter environment  (again using your Launcher terminal window)\n",
    "- Step 2: Push changes to your repo  (still using your Launcher terminal window)\n",
    "- Step 3: Open a Pull Request (PR) on our original repo. Make sure you provide an email in the description of the PR so we can contact you if your submission has been chosen. (This step is done from your GitHub account).\n",
    "\n",
    "![Open PR](Pictures/NewPullRequest.png)\n",
    "\n",
    "You should submit your response within the 4-hour time slot. We will reset all the Jupyter accounts right after the time is up, so make sure you have at least committed and pushed your changes back to your repo prior to that. You will then have more time to submit your PR.\n",
    "\n",
    "> Note: Use the [GIT101 notebook](./WKSHP-GIT101/1-WKSHP-GIT-Basics.ipynb) if you need assistance with these steps\n",
    "\n",
    "# Looking for help?\n",
    "\n",
    "Don't hesitate to refer back to the notebooks in your Jupyter accounts for help in answering questions that come up in the challenge. We have set up a Slack channel in the HPE DEV Slack Workspace. Feel free to [join the workspace](https://slack.hpedev.io/) then [start asking questions there](https://hpedev.slack.com/archives/C015CLE2QTT). We will be around to help you.\n",
    "\n",
    "Finally, in case of a real emergency, you can contact the [HPEDEV Team](mailto:hpedev.hackshack@hpe.com).\n",
    "\n",
    "Please note that during the period of June 30th, until July 17th the Slack channel will be opened 24x7, with monitoring from the HPE DEV Team from 9AM-6PM CET.\n",
    "\n",
    "# Providing feedback\n",
    "\n",
    "We would love to get feedback about your experience with the Hack Shack Challenges, so please take a moment to fill out that [short survey](https://forms.office.com/Pages/ResponsePage.aspx?id=YSBbEGm2MUuSrCTTBNGV3KHzFdd987lBoQATWJq45DdUNEVQTzdQV1NZM1MxNVVDMDRPRlFGUTlaQi4u) for us:\n",
    "\n",
    "# Challenge rewards\n",
    "\n",
    "We will select and reward the best response per challenge subject at the end of the HPE Discover Virtual Experience Challenges period. In addition to this, we will have a drawing amongst all the challengers who participated in all four challenges and also reward this super-challenger. \n",
    "\n",
    "[Review the terms & conditions](https://hackshack.hpedev.io/challengetermsconditions)\n",
    "\n",
    "# Congratulations for completing this Challenge!"
   ]
  },
  {
   "cell_type": "code",
   "execution_count": null,
   "metadata": {},
   "outputs": [],
   "source": []
  }
 ],
 "metadata": {
  "kernelspec": {
   "display_name": "PowerShell",
   "language": "powershell",
   "name": "powershell"
  },
  "language_info": {
   "codemirror_mode": "shell",
   "file_extension": ".ps1",
   "mimetype": "text/x-sh",
   "name": "powershell"
  }
 },
 "nbformat": 4,
 "nbformat_minor": 4
}